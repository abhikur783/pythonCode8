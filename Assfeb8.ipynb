{
 "cells": [
  {
   "cell_type": "code",
   "execution_count": null,
   "id": "99edd1bd-09d3-487b-a44b-12dbd7ecff45",
   "metadata": {},
   "outputs": [],
   "source": [
    " Q1.what is Abstraction in OOps? Explain with example.\n",
    "    Ans:Abstraction is a process of hiding the implement detail from the user , only the highlighted set of service provided to the user.\n",
    "        Abstraction in object- oriented programing is a concept of hinding the implementation deatils and  showing only the necessary information \n",
    "        to the user. It allows creating a simplified version of a complex system and ignoring unimportant details , thus ma\n",
    "\n",
    "example: If we use calculator then we understand for use but not understand for how does to work the claculator or don't show implementation\n",
    "        of claculator that calculator how to work.\n"
   ]
  },
  {
   "cell_type": "code",
   "execution_count": 8,
   "id": "97a51a91-cb44-496e-bce4-58523d152320",
   "metadata": {},
   "outputs": [],
   "source": [
    "#example:\n",
    "class Calculator:\n",
    "    def add(self ,a,b ):\n",
    "        return a + b\n",
    "    \n",
    "    def sub(self,a,b):\n",
    "        return a - b\n",
    "    def miltiple(self , a,b):\n",
    "        return a * b\n",
    "    def divide(self , a, b):\n",
    "        return a /b"
   ]
  },
  {
   "cell_type": "code",
   "execution_count": 9,
   "id": "bfe195fa-6214-4027-a887-f7d24b113850",
   "metadata": {},
   "outputs": [
    {
     "name": "stdout",
     "output_type": "stream",
     "text": [
      "-20\n"
     ]
    }
   ],
   "source": [
    "cal=Calculator()\n",
    "print(cal.sub(10,30))\n"
   ]
  },
  {
   "cell_type": "code",
   "execution_count": 11,
   "id": "c07f1090-2541-48ec-a8ae-27fddbb13103",
   "metadata": {},
   "outputs": [
    {
     "name": "stdout",
     "output_type": "stream",
     "text": [
      "4.0\n"
     ]
    }
   ],
   "source": [
    "print(cal.divide(20,5))"
   ]
  },
  {
   "cell_type": "code",
   "execution_count": null,
   "id": "005ea67f-07cb-4604-a77a-5771f3c7539d",
   "metadata": {},
   "outputs": [],
   "source": [
    "NOTE : clculator do not  show details and imlementation  of the code that work in backend of the calculator. the  claculator show \n",
    "       calculator body and  calculation marks ,  input and result:"
   ]
  },
  {
   "cell_type": "code",
   "execution_count": null,
   "id": "5ed63e67-6956-4207-adf0-caf38fc808f3",
   "metadata": {},
   "outputs": [],
   "source": [
    "Q2.Defferentiate between  Abstraction and Encapsulation .Explain with an example:\n",
    "Ans:1. Abstraction is hinding the details implementation of the code .\n",
    "       Encapsulation is hinding the data and controlling the visibility of the code.\n",
    "    \n",
    "    2. Abstraction hides the internal implementation, and creates the skeleton of what is required for that Entity:\n",
    "        Encpsulation hides the data from external world.It protects the data whithin class and exposes methods to the world.\n",
    "        \n",
    "    3.Abstraction is achived by creating a class and difine the member variables , properties and methods inside it , as per the requirement.\n",
    "      Encapsulation is achived by using access modifiers like private , public, protected ,internal.\n",
    "    \n",
    "    4.Abstraction hides the internal implementation to reduce complexity of the application.\n",
    "       Encapsulation is hide the data for the purpose of data protection.\n",
    "    \n",
    "    5.Abstraction hides the internal details not necessary for the user:\n",
    "        Encapsulation hides the `data not be share to the outside world. It can be variable or method . "
   ]
  },
  {
   "cell_type": "code",
   "execution_count": null,
   "id": "06906598-9520-48af-bb90-56f96ce2ee6d",
   "metadata": {},
   "outputs": [],
   "source": [
    "#Example: #  \n",
    "when  we use thr TV remote to increase the volume . we don't know how pressing  a key increases the\n",
    "volume of the Tv. we only know to press the \"+\" button to increase the volume . That is exactly the abstraction \n",
    "that work in the object - oriented concept. and that code is used to make a remote don't show that is encapsulation.\n"
   ]
  },
  {
   "cell_type": "code",
   "execution_count": 14,
   "id": "e3fd740e-74b3-475e-af8d-79192eae0507",
   "metadata": {},
   "outputs": [],
   "source": [
    "#example by  code:\n",
    "class bank_account :\n",
    "    def __init__(self,balance):\n",
    "        self.__balance = balance\n",
    "        \n",
    "    def deposit(self,amount):\n",
    "        self.__balance = self.__balance + amount\n",
    "       \n",
    "    def withdraw(self,amount):\n",
    "        if self.__balance>=amount:\n",
    "            self.__balance = self.__balance - amount\n",
    "            return True\n",
    "        else: \n",
    "            return False\n",
    "    def get_balance(self):\n",
    "        return self.__balance\n"
   ]
  },
  {
   "cell_type": "code",
   "execution_count": null,
   "id": "41ae4c40-c6da-4387-b15a-3114cb235b73",
   "metadata": {},
   "outputs": [],
   "source": [
    " These program process for bank account how does work these process not  user know , that process is called\n",
    "    a abstraction. and in program hide blance process then for access do flow the some rule , called a encapsulation."
   ]
  },
  {
   "cell_type": "code",
   "execution_count": 15,
   "id": "e7112c15-4e40-4bff-bd1f-602e9c720cf7",
   "metadata": {},
   "outputs": [],
   "source": [
    "abhi = bank_account(1000)"
   ]
  },
  {
   "cell_type": "code",
   "execution_count": 16,
   "id": "65b6b366-bd4e-42e1-94a9-a22981636079",
   "metadata": {},
   "outputs": [
    {
     "data": {
      "text/plain": [
       "1000"
      ]
     },
     "execution_count": 16,
     "metadata": {},
     "output_type": "execute_result"
    }
   ],
   "source": [
    "abhi.get_balance()"
   ]
  },
  {
   "cell_type": "code",
   "execution_count": 17,
   "id": "78b9df10-dbb9-474c-b473-850fee08c058",
   "metadata": {},
   "outputs": [],
   "source": [
    "abhi.deposit(4000)"
   ]
  },
  {
   "cell_type": "code",
   "execution_count": 18,
   "id": "7d2250d2-d5b3-4a29-82ce-ce68f1b12b28",
   "metadata": {},
   "outputs": [
    {
     "data": {
      "text/plain": [
       "5000"
      ]
     },
     "execution_count": 18,
     "metadata": {},
     "output_type": "execute_result"
    }
   ],
   "source": [
    "abhi.get_balance()"
   ]
  },
  {
   "cell_type": "code",
   "execution_count": 19,
   "id": "e17ba12a-90fa-4516-aaf1-a93cfc1e09cf",
   "metadata": {},
   "outputs": [
    {
     "data": {
      "text/plain": [
       "True"
      ]
     },
     "execution_count": 19,
     "metadata": {},
     "output_type": "execute_result"
    }
   ],
   "source": [
    "abhi.withdraw(1000)"
   ]
  },
  {
   "cell_type": "code",
   "execution_count": 20,
   "id": "04f47104-7675-4ac1-a148-1e7031c3d9a5",
   "metadata": {},
   "outputs": [
    {
     "data": {
      "text/plain": [
       "4000"
      ]
     },
     "execution_count": 20,
     "metadata": {},
     "output_type": "execute_result"
    }
   ],
   "source": [
    "abhi.get_balance()"
   ]
  },
  {
   "cell_type": "code",
   "execution_count": null,
   "id": "837d7415-e818-4634-a5cf-31c475af1ff7",
   "metadata": {},
   "outputs": [],
   "source": [
    "Q3.what is abc module in python? Why is it used? \n",
    " Ans: The \"abc\" module in Python stands for \"Abstract Base Classes\". It provides a way to define abstract classes in Python,\n",
    "     which are classes that can't be instantiated directly and must be subclassed to be used.\n",
    "     Abstract classes are used to define a common interface or set of methods that subclasses should implement,\n",
    "     ensuring a consistent behavior across different implementations. This is particularly useful in situations \n",
    "     where you want to define a set of methods that all subclasses should have, but don't necessarily care about \n",
    "     the implementation details.\n",
    "    In short, the \"abc\" module is used to define abstract classes in Python and enforce a common interface for subclasses."
   ]
  },
  {
   "cell_type": "code",
   "execution_count": null,
   "id": "dce10366-7568-4425-b909-990e9ad05c5c",
   "metadata": {},
   "outputs": [],
   "source": [
    "Q4.how can we achieve data abstraction?\n",
    "Ans:Data abstraction can be achieved through several techniques, including encapsulation,\n",
    "   information hiding, and abstraction mechanisms provided by programming languages.\n",
    "   Encapsulation involves bundling data and related methods together into a class, \n",
    "   while information hiding involves restricting access to certain data and methods \n",
    "   to prevent unwanted modification or interaction. Abstraction mechanisms provided by programming languages, \n",
    "   such as abstract classes and interfaces, allow for the definition of generic classes and methods that can be\n",
    "   implemented differently by subclasses, promoting modularity and reusability."
   ]
  },
  {
   "cell_type": "code",
   "execution_count": null,
   "id": "4c38ddd8-db2e-4a53-b138-11e6d354a4bf",
   "metadata": {},
   "outputs": [],
   "source": [
    "Q5.Can we create an instance of an abstract class?Explain your answer.\n",
    "Ans :No, we cannot create an instance of an abstract class directly. An abstract class is a class \n",
    "        that cannot be instantiated on its own, but can only be subclassed. It serves as a blueprint for \n",
    "        other classes to inherit from and define their own implementation of the abstract methods declared in the abstract class.\n",
    "        When a class is marked as abstract, it is meant to be extended by other classes that provide concrete implementations for\n",
    "        the abstract methods. These concrete classes can be instantiated and used in our programs, while the abstract class remains \n",
    "        a template for their implementation.\n",
    "        \n",
    "        Attempting to create an instance of an abstract class will result in a compilation error."
   ]
  }
 ],
 "metadata": {
  "kernelspec": {
   "display_name": "Python 3 (ipykernel)",
   "language": "python",
   "name": "python3"
  },
  "language_info": {
   "codemirror_mode": {
    "name": "ipython",
    "version": 3
   },
   "file_extension": ".py",
   "mimetype": "text/x-python",
   "name": "python",
   "nbconvert_exporter": "python",
   "pygments_lexer": "ipython3",
   "version": "3.10.8"
  }
 },
 "nbformat": 4,
 "nbformat_minor": 5
}
